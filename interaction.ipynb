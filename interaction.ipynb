{
 "cells": [
  {
   "cell_type": "code",
   "execution_count": null,
   "metadata": {},
   "outputs": [],
   "source": [
    "import panel as pn\n",
    "import pandas as pd\n",
    "\n",
    "from bokeh.plotting import figure\n",
    "\n",
    "pn.extension()"
   ]
  },
  {
   "cell_type": "code",
   "execution_count": null,
   "metadata": {},
   "outputs": [],
   "source": [
    "df = pd.read_csv('data/auto-mpg.csv', na_values='?').dropna()"
   ]
  },
  {
   "cell_type": "code",
   "execution_count": null,
   "metadata": {},
   "outputs": [],
   "source": [
    "# specify default values\n",
    "attr1 = 'mpg'\n",
    "attr2 = 'horsepower'\n",
    "\n",
    "# create the charts\n",
    "p = figure(width=400, height=300, tools=[], title=\"Cars dataset explorer\")\n",
    "p.scatter(source=df, x=attr1, y=attr2, size=3, name=\"scatter\")\n",
    "p.xaxis.axis_label = attr1\n",
    "p.yaxis.axis_label = attr2\n",
    "p.toolbar.logo = None\n",
    "\n",
    "# initialize the input widgets\n",
    "x_attr = pn.widgets.Select(name='Attribute 1', value=attr1, options=list(df))\n",
    "y_attr = pn.widgets.Select(name='Attribute 2', value=attr2, options=list(df))\n",
    "\n",
    "# create a callback the does necessary actions after changes in the widgets\n",
    "def onAttributeChanged(target, event):\n",
    "    # the user selected Attribute 1\n",
    "    if event.obj.name == 'Attribute 1':\n",
    "        # find the renderer and set the new attribute\n",
    "        target.select('scatter').glyph.x = event.new\n",
    "        target.xaxis.axis_label = event.new\n",
    "    # do the same for the second widget\n",
    "    else:\n",
    "        target.select('scatter').glyph.y = event.new\n",
    "        target.yaxis.axis_label = event.new\n",
    "\n",
    "# link interactions with the widgets to the callback\n",
    "x_attr.link(p, callbacks={'value': onAttributeChanged})\n",
    "y_attr.link(p, callbacks={'value': onAttributeChanged})\n",
    "   \n",
    "# create a layout and start the server (.app())\n",
    "pn.Column(pn.pane.Markdown('''**Usage** Change the attributes in the dropdown menu to change the plot.'''),\n",
    "          pn.Row(p, pn.Column(x_attr, y_attr))\n",
    "         ).app('localhost:8888')"
   ]
  },
  {
   "cell_type": "code",
   "execution_count": null,
   "metadata": {},
   "outputs": [],
   "source": []
  }
 ],
 "metadata": {
  "kernelspec": {
   "display_name": "Python 3",
   "language": "python",
   "name": "python3"
  },
  "language_info": {
   "codemirror_mode": {
    "name": "ipython",
    "version": 3
   },
   "file_extension": ".py",
   "mimetype": "text/x-python",
   "name": "python",
   "nbconvert_exporter": "python",
   "pygments_lexer": "ipython3",
   "version": "3.8.5"
  }
 },
 "nbformat": 4,
 "nbformat_minor": 4
}
